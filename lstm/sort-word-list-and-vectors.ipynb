{
 "cells": [
  {
   "cell_type": "code",
   "execution_count": 73,
   "metadata": {},
   "outputs": [
    {
     "name": "stdout",
     "output_type": "stream",
     "text": [
      "float32\n",
      "400000\n",
      "(400000, 50)\n",
      "lifeworks\n",
      "lifeworks\n",
      "[-0.48425001 -0.11201    -0.84138    -0.27305999  0.42853999 -0.19954\n",
      " -0.32330999  0.098155    0.57780999  1.03550005 -0.30743     0.03344\n",
      " -0.53469998  0.57323998 -0.53248    -1.32420003  0.90977001 -0.28108001\n",
      " -1.09529996 -0.70157999 -0.42116001  0.66505998 -0.72327    -0.74514002\n",
      "  0.70257998 -0.28457001 -0.020767    0.16716     0.22837    -0.29389\n",
      "  1.92739999  0.28259999  0.52626002  0.33647001  0.49248999  1.04760003\n",
      "  0.45548001  1.49539995 -0.50603998 -0.40252     0.85135001  0.4531\n",
      " -0.2422     -0.13146999 -0.21151     0.083723    0.52350998  0.33287999\n",
      "  0.15659     0.15121   ]\n",
      "[-0.48425001 -0.11201    -0.84138    -0.27305999  0.42853999 -0.19954\n",
      " -0.32330999  0.098155    0.57780999  1.03550005 -0.30743     0.03344\n",
      " -0.53469998  0.57323998 -0.53248    -1.32420003  0.90977001 -0.28108001\n",
      " -1.09529996 -0.70157999 -0.42116001  0.66505998 -0.72327    -0.74514002\n",
      "  0.70257998 -0.28457001 -0.020767    0.16716     0.22837    -0.29389\n",
      "  1.92739999  0.28259999  0.52626002  0.33647001  0.49248999  1.04760003\n",
      "  0.45548001  1.49539995 -0.50603998 -0.40252     0.85135001  0.4531\n",
      " -0.2422     -0.13146999 -0.21151     0.083723    0.52350998  0.33287999\n",
      "  0.15659     0.15121   ]\n",
      "Done.\n"
     ]
    }
   ],
   "source": [
    "################################################################################\n",
    "# This is a utility program I wrote to sort the wordsList and wordVectors into\n",
    "# lexicographical order. Now, just use the pre-sorted files in the lstm\n",
    "# directory (wordsList-lexic-sorted.npy and wordVectors-lexic-sorted.npy).\n",
    "################################################################################\n",
    "\n",
    "\n",
    "import numpy as np\n",
    "import sys\n",
    "\n",
    "nWords = 400000\n",
    "nDims = 50\n",
    "\n",
    "# not the embeddings matrix, but the list\n",
    "wordsListNP = np.load('wordsList.npy')\n",
    "wordsList = wordsListNP.tolist()\n",
    "wordsList = [word.decode('UTF-8') for word in wordsList]\n",
    "wordVectors = np.load('wordVectors.npy')\n",
    "\n",
    "print(wordVectors.dtype)\n",
    "assert(wordVectors.dtype == 'float32')\n",
    "\n",
    "wVecWithIdxs = np.zeros((nWords, nDims+1), dtype=wordVectors.dtype)\n",
    "# glob the old mapping indices onto the matrix as the first column\n",
    "for i in range(nWords):\n",
    "    wVecWithIdxs[i][0] = i\n",
    "    wVecWithIdxs[i][1:] = wordVectors[i]\n",
    "\n",
    "# now, sort all the rows by the words they correspond to\n",
    "sortedWVecWithIdxs = sorted(wVecWithIdxs, key=lambda x: wordsList[int(x[0])])\n",
    "\n",
    "print(len(wordsList))\n",
    "print(wordVectors.shape)\n",
    "\n",
    "newWordVectors = np.zeros((nWords, nDims), dtype=wordVectors.dtype)\n",
    "# chop off the index column\n",
    "for i in range(nWords):\n",
    "    newWordVectors[i] = sortedWVecWithIdxs[i][1:]\n",
    "\n",
    "newWordsList = sorted(wordsList)\n",
    "print(wordsList[int(sortedWVecWithIdxs[222223][0])])\n",
    "print(newWordsList[222223])\n",
    "\n",
    "# sanity check\n",
    "superbIdxNew = newWordsList.index('superb')\n",
    "print(newWordVectors[superbIdxNew])\n",
    "\n",
    "superbIdxOld = wordsList.index('superb')\n",
    "print(wordVectors[superbIdxOld])\n",
    "\n",
    "# save 'em\n",
    "np.save('wordsList-lexic-sorted.npy', newWordsList)\n",
    "np.save('wordVectors-lexic-sorted.npy', newWordVectors)\n",
    "\n",
    "assert(newWordVectors.dtype == 'float32')\n",
    "print(\"Done.\")"
   ]
  },
  {
   "cell_type": "code",
   "execution_count": null,
   "metadata": {
    "collapsed": true
   },
   "outputs": [],
   "source": []
  }
 ],
 "metadata": {
  "kernelspec": {
   "display_name": "Python 3",
   "language": "python",
   "name": "python3"
  },
  "language_info": {
   "codemirror_mode": {
    "name": "ipython",
    "version": 3
   },
   "file_extension": ".py",
   "mimetype": "text/x-python",
   "name": "python",
   "nbconvert_exporter": "python",
   "pygments_lexer": "ipython3",
   "version": "3.6.2"
  }
 },
 "nbformat": 4,
 "nbformat_minor": 2
}
